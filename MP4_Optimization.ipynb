{
 "cells": [
  {
   "cell_type": "markdown",
   "metadata": {},
   "source": [
    "# Introduction\n",
    "\n",
    "Topology optimization is a mathematical method that optimizes material distribution within a given design space for a given set of loads, boundary conditions, and constraints with the goal of maximizing the performance of the system. For example, we can use topology optimization methods to design bridge structures that are structurally safe and use a reduced amount of material. In this MP, you will write part of a topology optimization algorithm to design a simple bridge like the one in the figure below. \n",
    "\n",
    "### Part1: Understanding the design variable"
   ]
  },
  {
   "cell_type": "code",
   "execution_count": null,
   "metadata": {},
   "outputs": [],
   "source": [
    "import numpy as np\n",
    "from matplotlib import colors\n",
    "import matplotlib.pyplot as plt\n",
    "\n",
    "\n",
    "def get_change(xvec1,xvec2):\n",
    "    # define scalar 'change'\n",
    "    # 'change' is the maximum value of the absolute differece between two vectors\n",
    "    change = abs(xvec1-xvec2)\n",
    "    return max(change)\n",
    "\n",
    "xvec1 = np.array([1.0,0.3,1.0,0.5,0.7,0.2])\n",
    "xvec2 = np.array([0.5,0.2,0.0,0.7,0.5,0.2])"
   ]
  },
  {
   "cell_type": "markdown",
   "metadata": {},
   "source": [
    "### Part2: Approximate the Drivatives\n",
    "Constructing the finite difference function"
   ]
  },
  {
   "cell_type": "code",
   "execution_count": null,
   "metadata": {},
   "outputs": [],
   "source": [
    "import numpy as np\n",
    "\n",
    "def dfunc(xvec,dx):\n",
    "    # xvec: 1d numpy array\n",
    "    # dx: float\n",
    "    # df: 1d numpy array\n",
    "    # code to obtain df\n",
    "    df = []\n",
    "    for i, n in enumerate(xvec):\n",
    "        x0 = xvec.copy()\n",
    "        x0[i] += dx\n",
    "        df_ = (func(x0) - func(xvec))  / dx\n",
    "        df.append(df_)\n",
    "    df = np.array(df)\n",
    "    return df"
   ]
  },
  {
   "cell_type": "markdown",
   "metadata": {},
   "source": [
    "### Part3: Playing around with image filters"
   ]
  },
  {
   "cell_type": "code",
   "execution_count": 1,
   "metadata": {},
   "outputs": [
    {
     "ename": "NameError",
     "evalue": "name 'image' is not defined",
     "output_type": "error",
     "traceback": [
      "\u001b[0;31m---------------------------------------------------------------------------\u001b[0m",
      "\u001b[0;31mNameError\u001b[0m                                 Traceback (most recent call last)",
      "\u001b[0;32m<ipython-input-1-0dc49fc72746>\u001b[0m in \u001b[0;36m<module>\u001b[0;34m\u001b[0m\n\u001b[1;32m      4\u001b[0m \u001b[0;34m\u001b[0m\u001b[0m\n\u001b[1;32m      5\u001b[0m \u001b[0midentity_filter\u001b[0m \u001b[0;34m=\u001b[0m \u001b[0mnp\u001b[0m\u001b[0;34m.\u001b[0m\u001b[0marray\u001b[0m\u001b[0;34m(\u001b[0m\u001b[0;34m[\u001b[0m\u001b[0;34m[\u001b[0m\u001b[0;36m0.0\u001b[0m\u001b[0;34m,\u001b[0m\u001b[0;36m0.0\u001b[0m\u001b[0;34m,\u001b[0m\u001b[0;36m0.0\u001b[0m\u001b[0;34m]\u001b[0m\u001b[0;34m,\u001b[0m\u001b[0;34m[\u001b[0m\u001b[0;36m0.0\u001b[0m\u001b[0;34m,\u001b[0m\u001b[0;36m1.0\u001b[0m\u001b[0;34m,\u001b[0m\u001b[0;36m0.0\u001b[0m\u001b[0;34m]\u001b[0m\u001b[0;34m,\u001b[0m\u001b[0;34m[\u001b[0m\u001b[0;36m0.0\u001b[0m\u001b[0;34m,\u001b[0m\u001b[0;36m0.0\u001b[0m\u001b[0;34m,\u001b[0m\u001b[0;36m0.0\u001b[0m\u001b[0;34m]\u001b[0m\u001b[0;34m]\u001b[0m\u001b[0;34m)\u001b[0m\u001b[0;34m\u001b[0m\u001b[0;34m\u001b[0m\u001b[0m\n\u001b[0;32m----> 6\u001b[0;31m \u001b[0mimage0\u001b[0m \u001b[0;34m=\u001b[0m \u001b[0mimage\u001b[0m\u001b[0;34m.\u001b[0m\u001b[0mcopy\u001b[0m\u001b[0;34m(\u001b[0m\u001b[0;34m)\u001b[0m\u001b[0;34m\u001b[0m\u001b[0;34m\u001b[0m\u001b[0m\n\u001b[0m\u001b[1;32m      7\u001b[0m \u001b[0midentity_image\u001b[0m \u001b[0;34m=\u001b[0m \u001b[0mconvolve2d\u001b[0m\u001b[0;34m(\u001b[0m\u001b[0mimage0\u001b[0m\u001b[0;34m,\u001b[0m \u001b[0midentity_filter\u001b[0m\u001b[0;34m,\u001b[0m \u001b[0mmode\u001b[0m \u001b[0;34m=\u001b[0m \u001b[0;34m'same'\u001b[0m\u001b[0;34m)\u001b[0m\u001b[0;34m\u001b[0m\u001b[0;34m\u001b[0m\u001b[0m\n\u001b[1;32m      8\u001b[0m \u001b[0mplt\u001b[0m\u001b[0;34m.\u001b[0m\u001b[0mimshow\u001b[0m\u001b[0;34m(\u001b[0m\u001b[0midentity_image\u001b[0m\u001b[0;34m,\u001b[0m \u001b[0mcmap\u001b[0m \u001b[0;34m=\u001b[0m \u001b[0;34m'gray'\u001b[0m\u001b[0;34m,\u001b[0m \u001b[0mvmin\u001b[0m \u001b[0;34m=\u001b[0m \u001b[0;36m0\u001b[0m\u001b[0;34m,\u001b[0m \u001b[0mvmax\u001b[0m \u001b[0;34m=\u001b[0m \u001b[0;36m250\u001b[0m\u001b[0;34m)\u001b[0m\u001b[0;34m\u001b[0m\u001b[0;34m\u001b[0m\u001b[0m\n",
      "\u001b[0;31mNameError\u001b[0m: name 'image' is not defined"
     ]
    }
   ],
   "source": [
    "import numpy as np\n",
    "import matplotlib.pyplot as plt\n",
    "from scipy.signal import convolve2d\n",
    "\n",
    "identity_filter = np.array([[0.0,0.0,0.0],[0.0,1.0,0.0],[0.0,0.0,0.0]])\n",
    "image0 = image.copy()\n",
    "identity_image = convolve2d(image0, identity_filter, mode = 'same')\n",
    "plt.imshow(identity_image, cmap = 'gray', vmin = 0, vmax = 250)\n",
    "\n",
    "blur_filter = [1/9 for i in range(9)]\n",
    "blur_filter = np.array(blur_filter).reshape(3,3)\n",
    "image1 = image.copy()\n",
    "blurred_image = convolve2d(image1, blur_filter, mode = 'same')\n",
    "plt.imshow(blurred_image, cmap = 'gray', vmin = 0, vmax = 250)\n",
    "\n",
    "sharpen_filter = 2*identity_filter-blur_filter\n",
    "image2 = image.copy()\n",
    "sharpened_image = convolve2d(image2, sharpen_filter, mode = 'same')\n",
    "plt.imshow(sharpened_image, cmap = 'gray', vmin = 0, vmax = 250)"
   ]
  },
  {
   "cell_type": "markdown",
   "metadata": {},
   "source": [
    "### Part4: Setting up the filter kernel"
   ]
  },
  {
   "cell_type": "code",
   "execution_count": null,
   "metadata": {},
   "outputs": [],
   "source": [
    "import numpy as np\n",
    "import math\n",
    "\n",
    "def create_kernel(rmin):\n",
    "    # rmin: float\n",
    "    # H: 2d numpy array\n",
    "    # code to obtain kernel H\n",
    "    N = 2*math.floor(rmin) + 1\n",
    "    center = N//2\n",
    "    H = np.zeros([N,N])\n",
    "    for i in range(N):\n",
    "        for j in range(N):\n",
    "            delta = math.sqrt((center - i)**2 + (center - j)**2)\n",
    "            H[i][j] = max(0, rmin-delta)\n",
    "    return H"
   ]
  },
  {
   "cell_type": "markdown",
   "metadata": {},
   "source": [
    "### Part5: Constructing the filter function"
   ]
  },
  {
   "cell_type": "code",
   "execution_count": null,
   "metadata": {},
   "outputs": [],
   "source": [
    "import numpy as np\n",
    "from scipy.signal import convolve2d\n",
    "from matplotlib import colors\n",
    "import matplotlib.pyplot as plt\n",
    "import math\n",
    "\n",
    "def create_kernel(rmin, nelx, nely):\n",
    "    # rmin: float\n",
    "    # H: 2d numpy array\n",
    "    # code to obtain kernel H\n",
    "    N = 2*math.floor(rmin) + 1\n",
    "    center = N//2\n",
    "    H = np.zeros([N,N])\n",
    "    for i in range(N):\n",
    "        for j in range(N):\n",
    "            delta = math.sqrt((center - i)**2 + (center - j)**2)\n",
    "            H[i][j] = max(0, rmin-delta)\n",
    "    H1 = convolve2d(np.ones((nelx, nely)), H, mode='same')\n",
    "    return H, H1\n",
    "\n",
    "def filter_design_variable(xvec,H,H1):\n",
    "    # add code here to filter xvec and return xf\n",
    "    x = xvec.reshape(H1.shape)\n",
    "    xf = convolve2d(x, H, mode='same') / H1\n",
    "    xf = xf.reshape(xvec.shape)\n",
    "    return xf\n",
    "\n",
    "H,H1 = create_kernel(2.5, nelx, nely)\n",
    "xfilt = filter_design_variable(xvec, H, H1)\n",
    "image = -xfilt.reshape((nelx, nely)).T\n",
    "image_plot = plt.imshow(image, cmap='gray', interpolation='none', norm=colors.Normalize(vmin=-1, vmax=0))"
   ]
  },
  {
   "cell_type": "markdown",
   "metadata": {},
   "source": [
    "### Part6: Writing the main optimization loop"
   ]
  },
  {
   "cell_type": "code",
   "execution_count": null,
   "metadata": {},
   "outputs": [],
   "source": [
    "import numpy as np\n",
    "from matplotlib import colors\n",
    "import matplotlib.pyplot as plt\n",
    "\n",
    "i = 0\n",
    "while True:\n",
    "    f = func(xvec)\n",
    "    df = dfunc(xvec)\n",
    "    xnew = optimizer(xvec, f, df)\n",
    "    xnew = filter_design_variable(xnew)\n",
    "    change = get_change(xnew, xvec)\n",
    "    xvec = xnew\n",
    "    i += 1\n",
    "    if (change <= tol or i > maxiter) : break\n",
    "image = -xnew.reshape(nelx, nely).T\n",
    "image_plot = plt.imshow(image, cmap='gray',interpolation='none',norm=colors.Normalize(vmin=-1,vmax=0))"
   ]
  },
  {
   "cell_type": "markdown",
   "metadata": {},
   "source": [
    "### Part7: Perform your own topology optimization"
   ]
  },
  {
   "cell_type": "code",
   "execution_count": null,
   "metadata": {},
   "outputs": [],
   "source": [
    "import numpy as np\n",
    "from matplotlib import colors\n",
    "import matplotlib.pyplot as plt\n",
    "\n",
    "xnew1 = topopt(nelx=60,nely=30,volfrac=0.5,maxiter=60,tol=1e-3,rmin=1.5,ft=2)\n",
    "xnew2 = topopt(nelx=60,nely=30,volfrac=0.5,maxiter=60,tol=1e-3,rmin=1.5,ft=1)\n",
    "xnew3 = topopt(nelx=60,nely=30,volfrac=0.5,maxiter=60,tol=1e-3,rmin=2.5,ft=1)\n",
    "xnew4 = topopt(nelx=60,nely=30,volfrac=0.5,maxiter=60,tol=1e-3,rmin=4.0,ft=1)\n",
    "\n",
    "image1 = -xnew1.reshape((60, 30)).T\n",
    "image2 = -xnew2.reshape((60, 30)).T\n",
    "image3 = -xnew3.reshape((60, 30)).T\n",
    "image4 = -xnew4.reshape((60, 30)).T\n",
    "\n",
    "image_plot_1 = plt.imshow(image1, cmap='gray', interpolation='none', norm=colors.Normalize(vmin=-1, vmax=0))\n",
    "image_plot_2 = plt.imshow(image2, cmap='gray', interpolation='none', norm=colors.Normalize(vmin=-1, vmax=0))\n",
    "image_plot_3 = plt.imshow(image3, cmap='gray', interpolation='none', norm=colors.Normalize(vmin=-1, vmax=0))\n",
    "image_plot_4 = plt.imshow(image4, cmap='gray', interpolation='none', norm=colors.Normalize(vmin=-1, vmax=0))"
   ]
  }
 ],
 "metadata": {
  "kernelspec": {
   "display_name": "Python 3",
   "language": "python",
   "name": "python3"
  },
  "language_info": {
   "codemirror_mode": {
    "name": "ipython",
    "version": 3
   },
   "file_extension": ".py",
   "mimetype": "text/x-python",
   "name": "python",
   "nbconvert_exporter": "python",
   "pygments_lexer": "ipython3",
   "version": "3.7.6"
  }
 },
 "nbformat": 4,
 "nbformat_minor": 4
}

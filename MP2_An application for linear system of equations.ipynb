{
 "cells": [
  {
   "cell_type": "markdown",
   "metadata": {},
   "source": [
    "# 1. Simulations and design using the finite element method"
   ]
  },
  {
   "cell_type": "code",
   "execution_count": null,
   "metadata": {},
   "outputs": [],
   "source": [
    "import numpy as np\n",
    "import scipy.linalg as la\n",
    "import matplotlib.pyplot as plt\n",
    "x = np.array([0, 0, 2, 0, 4, -1])\n",
    "F = np.array([0, 0, 0, 0, 0, -19])\n"
   ]
  },
  {
   "cell_type": "markdown",
   "metadata": {},
   "source": [
    "# 2. Strategy to solve KU = P"
   ]
  },
  {
   "cell_type": "code",
   "execution_count": 2,
   "metadata": {},
   "outputs": [],
   "source": [
    "def reorder_rows_columns(K,equation_numbers):\n",
    "    # construct the matrix Khat\n",
    "     x = len(equation_numbers) \n",
    "    y = equation_numbers - 1\n",
    "    Khat = K.copy()\n",
    "    for i in range(x):\n",
    "        Khat[i] = K[y[i]]\n",
    "        \n",
    "    Ktemp = Khat.copy()\n",
    "    for i in range(x):\n",
    "        for j in range(x):\n",
    "            Khat[i][j] = Ktemp[i][y[j]]\n",
    "    return Khat\n"
   ]
  },
  {
   "cell_type": "code",
   "execution_count": 3,
   "metadata": {},
   "outputs": [],
   "source": [
    "def partition_stiffness_matrix(K,equation_numbers,nk):\n",
    "    # construct the smaller matrices\n",
    "    k = reorder_rows_columns(K, equation_numbers)\n",
    "    Kff = k[nk:, nk:]\n",
    "    Kfp = k[nk:, 0:nk]\n",
    "    Kpf = k[0:nk, nk:]\n",
    "    Kpp = k[0:nk, 0:nk]\n",
    "    return  Kpp,Kpf,Kfp,Kff"
   ]
  },
  {
   "attachments": {},
   "cell_type": "markdown",
   "metadata": {},
   "source": [
    "Kpp,Kpf,Kfp,Kff = partition_stiffness_matrix(K,equation_numbers,3)\n",
    "xp = np.array([0., 0., 0.])\n",
    "Ff = np.array([0., 0., -10.])\n",
    "\n",
    "def fea_solve(Kpp,Kpf,Kfp,Kff,xp,Ff):\n",
    "    # do stuff here\n",
    "    tmp = Ff - Kfp@xp\n",
    "    xf = la.solve(Kff,tmp)\n",
    "    Fp = Kpp@xp + Kpf@xf\n",
    "    return xf,Fp\n",
    " \n",
    "Kpp, Kpf, Kfp, Kff = partition_stiffness_matrix(K,equation_numbers, 3)\n",
    "\n",
    "xp = np.array([0, 0, 0],dtype = 'float')\n",
    "Ff = np.array([0, 0, -10],dtype = 'float')\n",
    "\n",
    "xf, Fp = fea_solve(Kpp,Kpf,Kfp,Kff,xp,Ff)\n",
    "\n",
    "image_xf = plot_truss(xf)\n"
   ]
  },
  {
   "cell_type": "markdown",
   "metadata": {},
   "source": [
    "# 3. LU and Triangular Solve"
   ]
  },
  {
   "cell_type": "code",
   "execution_count": 4,
   "metadata": {},
   "outputs": [],
   "source": [
    "def my_lu(A):\n",
    "    # LU Factorization\n",
    "    M = A.copy()\n",
    "    for i in range(A.shape[0]-1):\n",
    "        for j in range(i+1,A.shape[0]):\n",
    "            M[j, i] = M[j, i] / M[i, i]\n",
    "            for k in range(i+1,A.shape[0]):\n",
    "                M[j,k] -= M[i,k]*M[j,i]\n",
    "    return M\n"
   ]
  },
  {
   "cell_type": "code",
   "execution_count": 5,
   "metadata": {},
   "outputs": [],
   "source": [
    "def my_triangular_solve(M, b):\n",
    "    # b: 1d array with the right-hand of the linear system of equations\n",
    "    # implement Forward and Backward substitution\n",
    "    #Forward - substitution - solve Ly  = b for y\n",
    "     x = np.zeros(b.shape[0])\n",
    "    y = np.zeros(b.shape[0])\n",
    "    z = np.zeros((b.shape[0] ,b.shape[0]))\n",
    "    for i in range(b.shape[0]):\n",
    "        z[i, i] = 1\n",
    "        for j in range(i):\n",
    "            z[i,j] = M[i,j]\n",
    "    for i in range(b.shape[0]):\n",
    "        t = b[i]\n",
    "        for j in range(i):\n",
    "            t -= y[j] * z[i,j]\n",
    "        y[i] = t/z[i,i]\n",
    "    for i in range(b.shape[0]-1, -1, -1):\n",
    "        t = y[i]\n",
    "        for j in range(i, b.shape[0]):\n",
    "            t -= x[j] * M[i,j]\n",
    "        x[i] = t/M[i,i]\n",
    "    return x\n",
    "\n",
    "\n",
    "def fea_solve(Kpp, Kpf, Kfp, Kff, xp, Ff):\n",
    "    # Use my_lu and my_triangular_solve\n",
    "\n",
    "    xf = my_triangular_solve(my_lu(Kff), Ff - Kfp @ xp)\n",
    "    Fp = Kpp @ xp + Kpf @ xf\n",
    "    return xf, Fp\n"
   ]
  },
  {
   "cell_type": "code",
   "execution_count": null,
   "metadata": {},
   "outputs": [],
   "source": [
    "import numpy as np\n",
    "import matplotlib.pyplot as plt\n",
    "\n",
    "x = np.matmul(Kfp, xp)\n",
    "y = my_lu(Kff)\n",
    "\n",
    "xf_1 = my_triangular_solve(y, Ff[:, 0] - x)\n",
    "image_xf_1 = plot_truss(xf_1)\n",
    "xf_2 = my_triangular_solve(y, Ff[:, 1] - x)\n",
    "image_xf_2 = plot_truss(xf_2)\n"
   ]
  }
 ],
 "metadata": {
  "kernelspec": {
   "display_name": "Python 3",
   "language": "python",
   "name": "python3"
  },
  "language_info": {
   "codemirror_mode": {
    "name": "ipython",
    "version": 3
   },
   "file_extension": ".py",
   "mimetype": "text/x-python",
   "name": "python",
   "nbconvert_exporter": "python",
   "pygments_lexer": "ipython3",
   "version": "3.7.6"
  }
 },
 "nbformat": 4,
 "nbformat_minor": 4
}

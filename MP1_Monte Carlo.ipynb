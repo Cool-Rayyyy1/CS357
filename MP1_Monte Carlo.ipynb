{
 "cells": [
  {
   "cell_type": "markdown",
   "metadata": {},
   "source": [
    "# Odds of hands in Texas Hold 'em\n",
    "\n",
    "In this MP, you need to use Monte Carlo Simulation to compute the probability of winning a poker hand given an initial combinations of cards. We will make the simplifying assumption that no player is allowed to fold."
   ]
  },
  {
   "cell_type": "markdown",
   "metadata": {},
   "source": [
    "## Part 1_Intro\n",
    "\n",
    "variable: starting_hand\n",
    "Type: list\n",
    "Description: list of two strings prepresenting your starting hand\n",
    "example:\n",
    "starting_hand = ['Th','5d']"
   ]
  },
  {
   "cell_type": "markdown",
   "metadata": {},
   "source": [
    "### Part1.1 \n",
    "The first thing we would like you to do is to define the function cardNameToInt that converts a card from the \"RankSuit\" format(i.e. 'As') into an integer from 0-51 representing the card\n",
    "1. Order: \"c\",\"d\",\"h\",\"s\"\n",
    "2. Follow the overall ranking of the card with 0 being the lowest ranked card,\"2c\", and 51being the highest ranked card,\"As\".\n",
    "3. The card should be first ordered by the rank, then by the suit.\n",
    "Example: \"2c\" < \"2d\" < \"2h\" < \"2s\" < \"3c\" < \"3d\" <  < \"As\"."
   ]
  },
  {
   "cell_type": "code",
   "execution_count": 3,
   "metadata": {},
   "outputs": [],
   "source": [
    "import numpy as np"
   ]
  },
  {
   "cell_type": "code",
   "execution_count": 7,
   "metadata": {},
   "outputs": [],
   "source": [
    "def card(x):\n",
    "    R = np.array(['2','3','4','5','6','7','8','9','T','J','Q','K','A'])\n",
    "    S = np.array(['c','d','h','s'])\n",
    "    sum = 0\n",
    "    for i in range(len(R)):\n",
    "        for j in range(len(S)):\n",
    "            card = R[i] + S[j]\n",
    "            if card == x:\n",
    "                sum = 4*i + j\n",
    "    return sum\n",
    "start_cards = np.zeros(2, int)\n",
    "start_cards[0] = card(starting_hand[0])\n",
    "start_cards[1] = card(starting_hand[1])"
   ]
  },
  {
   "cell_type": "markdown",
   "metadata": {},
   "source": [
    "## Part 2_Dealing hands at Random\n",
    "\n",
    "In addition to your own hand, which is given to you as starting_hand in \"RankSuit\" format, we need to deal cards to the other players participating in the game as well as populate the 5 community cards"
   ]
  },
  {
   "cell_type": "markdown",
   "metadata": {},
   "source": [
    "### Part 2.1\n",
    "Write a function generatePlayersCards that takes as argument the number of players in the game and a 1d numpy array of integers representing the available check of cards\n",
    "Follow the same format explained in Part1"
   ]
  },
  {
   "cell_type": "code",
   "execution_count": 2,
   "metadata": {},
   "outputs": [],
   "source": [
    "import numpy as np\n",
    "\n",
    "#part 1\n",
    "def generatePlayersCards(n_players,available_deck):\n",
    "    # generate initial hands for opponents\n",
    "     players_cards = np.zeros((n_players, 2),int)\n",
    "    for i in range(n_players):\n",
    "        for j in range(2):\n",
    "            num = np.random.randint(52)\n",
    "            print(num)\n",
    "            while num not in available_deck:\n",
    "                num = np.random.randint(52)\n",
    "            print(num)\n",
    "            players_cards[i][j] = num\n",
    "            index = np.argwhere(available_deck==num)\n",
    "            print(index)\n",
    "            available_deck = np.delete(available_deck, index)\n",
    "    updated_card_deck = np.zeros(len(available_deck), int)\n",
    "    for i in range(len(updated_card_deck)):\n",
    "        updated_card_deck[i] = available_deck[i]\n",
    "    return(players_cards,updated_card_deck)"
   ]
  },
  {
   "cell_type": "markdown",
   "metadata": {},
   "source": [
    "### Part 2.2\n",
    "write a function generateDealerCards that takes as argument a 1d numpy array representing the available deck of cards."
   ]
  },
  {
   "cell_type": "code",
   "execution_count": 3,
   "metadata": {},
   "outputs": [],
   "source": [
    "#part 2\n",
    "def generateDealerCards(available_deck):\n",
    "    # do things here\n",
    "    dealer_cards = np.zeros(5,int)\n",
    "    for i in range(5):\n",
    "        num = np.random.randint(52)\n",
    "        while num not in available_deck:\n",
    "            num = np.random.randint(52)\n",
    "        dealer_cards[i] = num\n",
    "        index = np.argwhere(available_deck==num)\n",
    "        available_deck = np.delete(available_deck, index)\n",
    "        \n",
    "    updated_card_deck = available_deck.copy()\n",
    "    return(dealer_cards,updated_card_deck)"
   ]
  },
  {
   "cell_type": "markdown",
   "metadata": {},
   "source": [
    "## Part 3_Determining if you have a winning hand\n",
    "\n",
    "Goal: determine the odds of winning for your starting hand. We will be calling a game the dealing of the opponent cards and the dealer cards. \n",
    "i.e., a total of 7 random cards. \n",
    "For each game, we will determine if your hand wins the game, if another player wins, or if there is a tie"
   ]
  },
  {
   "cell_type": "markdown",
   "metadata": {},
   "source": [
    "### Part 3.1\n",
    "Define the function whoWin that takes as arguments the numpy array_cards, player_cards and dealer_cards and returns a 1d numpy array game_result = [win,lose,tie] such that:\n",
    "* game_result = [1,0,0]:starting hand wins\n",
    "Note that we will use the function cardNameToInt from Part1 to convert the given starting_hand to start_cards"
   ]
  },
  {
   "cell_type": "code",
   "execution_count": 1,
   "metadata": {},
   "outputs": [],
   "source": [
    "import numpy as np\n",
    "\n",
    "start_cards = np.zeros(2,int)\n",
    "start_cards[0] = cardNameToInt(starting_hand[0])\n",
    "start_cards[1] = cardNameToInt(starting_hand[1])\n",
    "def whoWin(start_cards, players_cards, dealer_cards):\n",
    "    win = 0\n",
    "    lose = 0\n",
    "    tie = 0\n",
    "    game_result = np.zeros(3, int)\n",
    "    for i in range(len(players_cards)):\n",
    "        if compareTwoPlayers(start_cards, players_cards[i], dealer_cards) == 0:\n",
    "            win += 1\n",
    "        if compareTwoPlayers(start_cards, players_cards[i], dealer_cards) == 1:\n",
    "            lose += 1\n",
    "        if compareTwoPlayers(start_cards, players_cards[i], dealer_cards) == 2:\n",
    "            tie += 1\n",
    "    if win == len(players_cards): \n",
    "        game_result[0] = 1\n",
    "        return game_result\n",
    "    if lose != 0: \n",
    "        game_result[1] = 1\n",
    "        return game_result\n",
    "        \n",
    "    game_result[2] = 1\n",
    "    return game_result\n",
    "print(start_cards, players_cards[0], dealer_cards)   \n",
    "game_result = whoWin(start_cards, players_cards, dealer_cards)"
   ]
  },
  {
   "cell_type": "markdown",
   "metadata": {},
   "source": [
    "## Part 4\n",
    "Given a starting_hand, use Monte Carlo simulation to determine the probability that your hand will win, lose or tie\n",
    "\n",
    "Our numerical experiment consists of running N games for **the same starting hand** and assume that you are playing against only ONE other player. The setup code provides the initial variables and some of the functions that you defined in previous parts."
   ]
  },
  {
   "cell_type": "code",
   "execution_count": 4,
   "metadata": {},
   "outputs": [],
   "source": [
    "import numpy as np"
   ]
  },
  {
   "cell_type": "code",
   "execution_count": null,
   "metadata": {},
   "outputs": [],
   "source": [
    "#delete starting_hand number in available cards\n",
    "start_cards = [cardNameToInt(starting_hand[0]),cardNameToInt(starting_hand[1])]\n",
    "start_cards = np.array(start_cards)\n",
    "\n",
    "available_desk = np.arange(52)\n",
    "available_desk = np.delete(available_desk, np.argwhere(available_desk == start_cards[0]))\n",
    "available_desk = np.delete(available_desk, np.argwhere(available_desk == start_cards[1]))"
   ]
  },
  {
   "cell_type": "code",
   "execution_count": 5,
   "metadata": {},
   "outputs": [
    {
     "ename": "NameError",
     "evalue": "name 'N' is not defined",
     "output_type": "error",
     "traceback": [
      "\u001b[0;31m---------------------------------------------------------------------------\u001b[0m",
      "\u001b[0;31mNameError\u001b[0m                                 Traceback (most recent call last)",
      "\u001b[0;32m<ipython-input-5-4652358b8222>\u001b[0m in \u001b[0;36m<module>\u001b[0;34m\u001b[0m\n\u001b[1;32m      3\u001b[0m \u001b[0mtie_count\u001b[0m \u001b[0;34m=\u001b[0m \u001b[0;36m0\u001b[0m\u001b[0;34m\u001b[0m\u001b[0;34m\u001b[0m\u001b[0m\n\u001b[1;32m      4\u001b[0m \u001b[0;34m\u001b[0m\u001b[0m\n\u001b[0;32m----> 5\u001b[0;31m \u001b[0;32mfor\u001b[0m \u001b[0mi\u001b[0m \u001b[0;32min\u001b[0m \u001b[0mrange\u001b[0m\u001b[0;34m(\u001b[0m\u001b[0mN\u001b[0m\u001b[0;34m)\u001b[0m\u001b[0;34m:\u001b[0m\u001b[0;34m\u001b[0m\u001b[0;34m\u001b[0m\u001b[0m\n\u001b[0m\u001b[1;32m      6\u001b[0m     \u001b[0;31m#generate opponent_hand\u001b[0m\u001b[0;34m\u001b[0m\u001b[0;34m\u001b[0m\u001b[0;34m\u001b[0m\u001b[0m\n\u001b[1;32m      7\u001b[0m     \u001b[0;31m#note: we cannot use available_desk, since it has been set capability outside\u001b[0m\u001b[0;34m\u001b[0m\u001b[0;34m\u001b[0m\u001b[0;34m\u001b[0m\u001b[0m\n",
      "\u001b[0;31mNameError\u001b[0m: name 'N' is not defined"
     ]
    }
   ],
   "source": [
    "win_count = 0\n",
    "lose_count = 0\n",
    "tie_count = 0\n",
    "\n",
    "for i in range(N):\n",
    "    #generate opponent_hand\n",
    "    #note: we cannot use available_desk, since it has been set capability outside\n",
    "    #we cannot change it, unless we use delete.\n",
    "    #so we just create a new one(updat_dect)\n",
    "    #And, everytime start a new game, available_dect will be the same!!\n",
    "    opponent_hands, update_dect = generatePlayersCards(n_players, available_dect)\n",
    "    dealer_cards, update_dect = generateDealerCards(update_dect)\n",
    "    game_result = whoWin(start_cards, opponent_hands, dealer_cards)\n",
    "    if game_result[0] == 1:\n",
    "        win_count += 1\n",
    "    elif game_result[1] == 1:\n",
    "        lose_count += 1\n",
    "    else:\n",
    "        tie_count += 1\n",
    "        \n",
    "win_probability = win_count/N\n",
    "lose_probability = lose_count/N\n",
    "tie_probability = tie_count/N"
   ]
  },
  {
   "cell_type": "markdown",
   "metadata": {},
   "source": [
    "## Part 5_Variability of Monte Carlo\n",
    "\n",
    "* Now let's investigate the variability of the result of our numerical experiment as we change the number of game N.\n",
    "\n",
    "* For each numerical experiment, determine the probability that the starting hand will win. Write a function monteCarloSimulation that takes as arguments the number of numerical experiments M, the number of games N, the number of players n_players and the starting hand starting_hand. \n",
    "\n",
    "* The function must return the 1d numpy array win_prob of shape(M,), which contains the probability of winning for each numerical experiment"
   ]
  },
  {
   "cell_type": "code",
   "execution_count": 6,
   "metadata": {},
   "outputs": [],
   "source": [
    "import numpy as np\n",
    "\n",
    "def monteCarloSimulation(M,N,n_players,starting_hand):\n",
    "    # do stuff here\n",
    "    win_prob = np.zeros(M)\n",
    "    for i in range(M):\n",
    "        available_deck = np.arange(52)\n",
    "        start_cards = np.zeros(2, int)\n",
    "        start_cards[0] = cardNameToInt(starting_hand[0])\n",
    "        start_cards[1] = cardNameToInt(starting_hand[1])\n",
    "        index = np.argwhere(available_deck==start_cards[0])\n",
    "        available_deck = np.delete(available_deck, index)\n",
    "        index = np.argwhere(available_deck==start_cards[1])\n",
    "        available_deck = np.delete(available_deck, index)\n",
    "        game = np.zeros(3, int)\n",
    "        for j in range(N):\n",
    "            players_cards, updated = generatePlayersCards(n_players, available_deck)\n",
    "            dealers_cards, updated = generateDealerCards(updated) #updated!!!!!!!!!!\n",
    "            game += whoWin(start_cards, players_cards, dealers_cards)\n",
    "        winp = game[0]/N\n",
    "        win_prob[i] = winp\n",
    "    print(win_prob)\n",
    "    return (win_prob)"
   ]
  },
  {
   "cell_type": "markdown",
   "metadata": {},
   "source": [
    "## Part 6_Understanding your result\n"
   ]
  },
  {
   "cell_type": "markdown",
   "metadata": {},
   "source": [
    "Use the function monteCarloSimulation to create historams of numerical experiments with different number of games. The setup code will also provide the starting_hand"
   ]
  },
  {
   "cell_type": "markdown",
   "metadata": {},
   "source": [
    "We assume you are playing against only one player. Run a Monte Carlo simulation for M = 100 and N = 50. And save the probabilities of winning in win_prob_50"
   ]
  },
  {
   "cell_type": "code",
   "execution_count": null,
   "metadata": {},
   "outputs": [],
   "source": [
    "import numpy as np\n",
    "import matplotlib.pyplot as plt\n",
    "\n",
    "win_prob_20 = monteCarloSimulation(100,20,1,starting_hand)\n",
    "win_prob_50 = monteCarloSimulation(100,50,1,starting_hand)\n",
    "sum_20 = 0\n",
    "sum_50 = 0\n",
    "for i in range(100):\n",
    "    sum_20 += win_prob_20[i]\n",
    "    sum_50 += win_prob_50[i]\n",
    "mean_20 = sum_20/100\n",
    "mean_50 = sum_50/100\n",
    "diff_20 = 0\n",
    "diff_50 = 0\n",
    "for i in range(100):\n",
    "    diff_20 += pow(mean_20 - win_prob_20[i], 2)\n",
    "    diff_50 += pow(mean_50 - win_prob_50[i], 2)\n",
    "std_20 = pow(diff_20/100, 0.5)\n",
    "std_50 = pow(diff_50/100, 0.5)\n",
    "plt.hist(win_prob_20,alpha=0.5, label='20 games')\n",
    "plt.hist(win_prob_50,alpha=0.5, label='50 games')\n",
    "plt.title('Starting hand ' + str(starting_hand))\n",
    "plt.legend(loc='upper left')\n",
    "plt.xlabel('Probability of winning')\n",
    "plt.ylabel('# of occurances')\n",
    "plt.show()"
   ]
  }
 ],
 "metadata": {
  "kernelspec": {
   "display_name": "Python 3",
   "language": "python",
   "name": "python3"
  },
  "language_info": {
   "codemirror_mode": {
    "name": "ipython",
    "version": 3
   },
   "file_extension": ".py",
   "mimetype": "text/x-python",
   "name": "python",
   "nbconvert_exporter": "python",
   "pygments_lexer": "ipython3",
   "version": "3.7.6"
  }
 },
 "nbformat": 4,
 "nbformat_minor": 4
}
